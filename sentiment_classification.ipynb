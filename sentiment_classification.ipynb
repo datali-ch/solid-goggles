{
 "cells": [
  {
   "cell_type": "code",
   "execution_count": 2,
   "metadata": {},
   "outputs": [
    {
     "name": "stderr",
     "output_type": "stream",
     "text": [
      "[nltk_data] Downloading package stopwords to\n",
      "[nltk_data]     /home/magdalena/nltk_data...\n",
      "[nltk_data]   Package stopwords is already up-to-date!\n"
     ]
    }
   ],
   "source": [
    "import tensorflow as tf\n",
    "import zipfile\n",
    "import os\n",
    "import matplotlib.pyplot as plt\n",
    "import csv\n",
    "from tensorflow.keras.preprocessing.text import Tokenizer\n",
    "from tensorflow.keras.preprocessing.sequence import pad_sequences\n",
    "import numpy as np\n",
    "from typing import List, Tuple, Dict, Set, Optional\n",
    "import nltk\n",
    "nltk.download('stopwords')\n",
    "\n",
    "from snippets import unpack_file, load_text_data, MyCallback, plot_graphs"
   ]
  },
  {
   "cell_type": "code",
   "execution_count": 3,
   "metadata": {},
   "outputs": [
    {
     "name": "stdout",
     "output_type": "stream",
     "text": [
      "Files unzipped to /tweets\n"
     ]
    }
   ],
   "source": [
    "FILE = \"tweet-sentiment-extraction.zip\"\n",
    "DIR = \"tweets\"\n",
    "\n",
    "TRAIN_FILE = DIR + \"/train.csv\"\n",
    "TEST_FILE = DIR + \"/test.csv\"\n",
    "\n",
    "unpack_file(FILE, DIR)"
   ]
  },
  {
   "cell_type": "code",
   "execution_count": 4,
   "metadata": {},
   "outputs": [],
   "source": [
    "SENTIMENT_TO_LABEL = {\n",
    "        \"positive\": 2,\n",
    "        \"neutral\": 1,\n",
    "        \"negative\": 0,\n",
    "    }\n",
    "LABEL_TO_SENTIMENT = {label: sentiment for sentiment, label in SENTIMENT_TO_LABEL.items()}\n",
    "\n",
    "train_texts, train_sentiments = load_text_data(TRAIN_FILE, 2, 3, remove_stopwords=True)\n",
    "train_labels = [SENTIMENT_TO_LABEL[sentiment] for sentiment in train_sentiments]\n",
    "train_labels = tf.keras.utils.to_categorical(train_labels, dtype=int)    \n",
    "\n",
    "test_texts, test_sentiments = load_text_data(TEST_FILE, 1, 2)\n",
    "test_labels = [SENTIMENT_TO_LABEL[sentiment] for sentiment in test_sentiments]\n",
    "test_labels = tf.keras.utils.to_categorical(test_labels, dtype=int)    "
   ]
  },
  {
   "cell_type": "code",
   "execution_count": 5,
   "metadata": {},
   "outputs": [],
   "source": [
    "EMBEDDING_DIM = 16\n",
    "MAX_WORDS = 1000\n",
    "MAX_SEQUENCE_LEN = 50\n",
    "\n",
    "tokenizer = Tokenizer(num_words=MAX_WORDS, oov_token=\"<oov>\")\n",
    "tokenizer.fit_on_texts(train_texts)\n",
    "\n",
    "sequences_train = tokenizer.texts_to_sequences(train_texts)\n",
    "padded_train = pad_sequences(sequences_train, padding = \"post\", maxlen = MAX_SEQUENCE_LEN)\n",
    "\n",
    "sequences_test = tokenizer.texts_to_sequences(test_texts)\n",
    "padded_test = pad_sequences(sequences_test, padding = \"post\", maxlen = MAX_SEQUENCE_LEN)"
   ]
  },
  {
   "cell_type": "code",
   "execution_count": 6,
   "metadata": {},
   "outputs": [
    {
     "name": "stdout",
     "output_type": "stream",
     "text": [
      "Model: \"sequential\"\n",
      "_________________________________________________________________\n",
      "Layer (type)                 Output Shape              Param #   \n",
      "=================================================================\n",
      "embedding (Embedding)        (None, 50, 16)            458096    \n",
      "_________________________________________________________________\n",
      "global_average_pooling1d (Gl (None, 16)                0         \n",
      "_________________________________________________________________\n",
      "dense (Dense)                (None, 24)                408       \n",
      "_________________________________________________________________\n",
      "dense_1 (Dense)              (None, 3)                 75        \n",
      "=================================================================\n",
      "Total params: 458,579\n",
      "Trainable params: 458,579\n",
      "Non-trainable params: 0\n",
      "_________________________________________________________________\n",
      "Train on 27486 samples, validate on 3535 samples\n",
      "27486/27486 [==============================] - 8s 302us/sample - loss: 0.9427 - acc: 0.5549 - val_loss: 2.5014 - val_acc: 0.4124\n"
     ]
    }
   ],
   "source": [
    "tf.keras.backend.clear_session()\n",
    "model = tf.keras.models.Sequential([\n",
    "    tf.keras.layers.Embedding(len(tokenizer.word_index)+1, EMBEDDING_DIM, input_length = MAX_SEQUENCE_LEN),\n",
    "    tf.keras.layers.GlobalAveragePooling1D(),\n",
    "    tf.keras.layers.Dense(24, activation = \"relu\"),\n",
    "    tf.keras.layers.Dense(3, activation = \"softmax\")\n",
    "])\n",
    "model.summary()\n",
    "\n",
    "my_callback = MyCallback()\n",
    "model.compile(optimizer=tf.keras.optimizers.RMSprop(lr=0.001), loss=\"categorical_crossentropy\", metrics=[\"acc\"])\n",
    "history = model.fit(padded_train, \n",
    "                    train_labels, \n",
    "                    epochs=1, \n",
    "                    verbose=1, \n",
    "                    callbacks=[my_callback], \n",
    "                    validation_data=(padded_test, test_labels)\n",
    "                   )"
   ]
  },
  {
   "cell_type": "code",
   "execution_count": 7,
   "metadata": {},
   "outputs": [
    {
     "data": {
      "image/png": "[encoded data removed]",
      "text/plain": [
       "<Figure size 432x288 with 1 Axes>"
      ]
     },
     "metadata": {
      "needs_background": "light"
     },
     "output_type": "display_data"
    },
    {
     "data": {
      "image/png": "[encoded data removed]",
      "text/plain": [
       "<Figure size 432x288 with 1 Axes>"
      ]
     },
     "metadata": {
      "needs_background": "light"
     },
     "output_type": "display_data"
    }
   ],
   "source": [
    "plot_graphs(history, \"acc\")\n",
    "plot_graphs(history, \"loss\")"
   ]
  },
  {
   "cell_type": "code",
   "execution_count": 7,
   "metadata": {},
   "outputs": [],
   "source": [
    "GLOVE_FILE = \"glove.6B.zip\"\n",
    "def loadGloveEmbeddings(file: str) -> Dict:\n",
    "    \"\"\" Load GloVe word embeddings from a file\n",
    "        Args:\n",
    "            file:                               file with GloVe embeddings. File format as in https://nlp.stanford.edu/projects/glove/\n",
    "        \n",
    "        Returns:\n",
    "            word2vec:                           dictionnary mapping word to empedding vector\n",
    "    \"\"\"\n",
    "\n",
    "    FOLDER = \"embeddings\"\n",
    "    unpack_file(file, FOLDER)\n",
    "\n",
    "    word2vec = {}\n",
    "    f = open(FOLDER + \"/glove.6B.100d.txt\")\n",
    "    for line in f:\n",
    "        values = line.split()\n",
    "        word = values[0]\n",
    "        coefs = np.asarray(values[1:], dtype=\"float32\")\n",
    "        word2vec[word] = coefs\n",
    "\n",
    "    return word2vec\n",
    "\n",
    "\n",
    "def createEmbeddingLayer(word2index: dict, word2vec: dict) -> tf.keras.layers.Embedding:\n",
    "    \"\"\" Set up pretrained Embedding layer\n",
    "        Credits to: https://keras.io/examples/pretrained_word_embeddings/\n",
    "        Args:\n",
    "            word2index:                         dictionnary mapping words to indices\n",
    "            word2vec:                           dictionnary mapping words to embedding vectors\n",
    "        Returns:\n",
    "            embedding_layer                     layer with pretrained GloVe word embeddings\n",
    "    \"\"\"\n",
    "\n",
    "    num_words = min(MAX_WORDS, len(word2index)) + 1\n",
    "    emb_dim = word2vec[\"cucumber\"].shape[0]\n",
    "    emb_matrix = np.zeros((num_words, emb_dim))\n",
    "\n",
    "    for word, index in word2index.items():\n",
    "        if index > MAX_WORDS:\n",
    "            break\n",
    "        embedding_vector = word2vec.get(word)\n",
    "        if embedding_vector is not None:\n",
    "            emb_matrix[index, :] = embedding_vector\n",
    "\n",
    "    embedding_layer = tf.keras.layers.Embedding(\n",
    "        num_words, emb_dim, input_length=MAX_SEQUENCE_LEN, trainable=False\n",
    "    )  # Do not update word embeddings\n",
    "    embedding_layer.build((None,))\n",
    "    embedding_layer.set_weights([emb_matrix])\n",
    "\n",
    "    return embedding_layer"
   ]
  },
  {
   "cell_type": "code",
   "execution_count": 8,
   "metadata": {},
   "outputs": [
    {
     "name": "stdout",
     "output_type": "stream",
     "text": [
      "Files unzipped to /embeddings\n"
     ]
    }
   ],
   "source": [
    "word2vec = loadGloveEmbeddings(GLOVE_FILE)"
   ]
  },
  {
   "cell_type": "code",
   "execution_count": 9,
   "metadata": {},
   "outputs": [],
   "source": [
    "embedding_layer = createEmbeddingLayer(tokenizer.word_index, word2vec)"
   ]
  },
  {
   "cell_type": "code",
   "execution_count": 10,
   "metadata": {},
   "outputs": [
    {
     "name": "stdout",
     "output_type": "stream",
     "text": [
      "Model: \"model\"\n",
      "_________________________________________________________________\n",
      "Layer (type)                 Output Shape              Param #   \n",
      "=================================================================\n",
      "input_1 (InputLayer)         [(None, 50)]              0         \n",
      "_________________________________________________________________\n",
      "embedding (Embedding)        (None, 50, 100)           100100    \n",
      "_________________________________________________________________\n",
      "global_average_pooling1d (Gl (None, 100)               0         \n",
      "_________________________________________________________________\n",
      "dense (Dense)                (None, 24)                2424      \n",
      "_________________________________________________________________\n",
      "dense_1 (Dense)              (None, 3)                 75        \n",
      "=================================================================\n",
      "Total params: 102,599\n",
      "Trainable params: 2,499\n",
      "Non-trainable params: 100,100\n",
      "_________________________________________________________________\n",
      "Train on 27486 samples, validate on 3535 samples\n",
      "Epoch 1/50\n",
      "27486/27486 [==============================] - 2s 75us/sample - loss: 0.9255 - acc: 0.5954 - val_loss: 1.3274 - val_acc: 0.4407\n",
      "Epoch 2/50\n",
      "27486/27486 [==============================] - 2s 69us/sample - loss: 0.8029 - acc: 0.6790 - val_loss: 1.2151 - val_acc: 0.4772\n",
      "Epoch 3/50\n",
      "27486/27486 [==============================] - 2s 56us/sample - loss: 0.7448 - acc: 0.6893 - val_loss: 1.1987 - val_acc: 0.5038\n",
      "Epoch 4/50\n",
      "27486/27486 [==============================] - 2s 68us/sample - loss: 0.7233 - acc: 0.6950 - val_loss: 1.1717 - val_acc: 0.5140\n",
      "Epoch 5/50\n",
      "27486/27486 [==============================] - 2s 56us/sample - loss: 0.7119 - acc: 0.6973 - val_loss: 1.2408 - val_acc: 0.5092\n",
      "Epoch 6/50\n",
      "27486/27486 [==============================] - 2s 58us/sample - loss: 0.7051 - acc: 0.7006 - val_loss: 1.1688 - val_acc: 0.5168\n",
      "Epoch 7/50\n",
      "27486/27486 [==============================] - 2s 82us/sample - loss: 0.7000 - acc: 0.7025 - val_loss: 1.1947 - val_acc: 0.5163\n",
      "Epoch 8/50\n",
      "27486/27486 [==============================] - 2s 79us/sample - loss: 0.6960 - acc: 0.7048 - val_loss: 1.1343 - val_acc: 0.5259\n",
      "Epoch 9/50\n",
      "27486/27486 [==============================] - 2s 71us/sample - loss: 0.6925 - acc: 0.7056 - val_loss: 1.1928 - val_acc: 0.5168\n",
      "Epoch 10/50\n",
      "27486/27486 [==============================] - 2s 72us/sample - loss: 0.6890 - acc: 0.7066 - val_loss: 1.1583 - val_acc: 0.5171\n",
      "Epoch 11/50\n",
      "27486/27486 [==============================] - 2s 58us/sample - loss: 0.6862 - acc: 0.7076 - val_loss: 1.1460 - val_acc: 0.5202\n",
      "Epoch 12/50\n",
      "27486/27486 [==============================] - 2s 65us/sample - loss: 0.6836 - acc: 0.7092 - val_loss: 1.1385 - val_acc: 0.5273\n",
      "Epoch 13/50\n",
      "27486/27486 [==============================] - 2s 75us/sample - loss: 0.6811 - acc: 0.7092 - val_loss: 1.1464 - val_acc: 0.5214\n",
      "Epoch 14/50\n",
      "27486/27486 [==============================] - 2s 86us/sample - loss: 0.6786 - acc: 0.7118 - val_loss: 1.1450 - val_acc: 0.5231\n",
      "Epoch 15/50\n",
      "27486/27486 [==============================] - 2s 75us/sample - loss: 0.6769 - acc: 0.7114 - val_loss: 1.1353 - val_acc: 0.5191\n",
      "Epoch 16/50\n",
      "27486/27486 [==============================] - 2s 64us/sample - loss: 0.6745 - acc: 0.7124 - val_loss: 1.1276 - val_acc: 0.5185\n",
      "Epoch 17/50\n",
      "27486/27486 [==============================] - 2s 73us/sample - loss: 0.6731 - acc: 0.7123 - val_loss: 1.1180 - val_acc: 0.5233\n",
      "Epoch 18/50\n",
      "27486/27486 [==============================] - 2s 66us/sample - loss: 0.6717 - acc: 0.7127 - val_loss: 1.1433 - val_acc: 0.5231\n",
      "Epoch 19/50\n",
      "27486/27486 [==============================] - 2s 77us/sample - loss: 0.6701 - acc: 0.7125 - val_loss: 1.1406 - val_acc: 0.5160\n",
      "Epoch 20/50\n",
      "27486/27486 [==============================] - 2s 77us/sample - loss: 0.6686 - acc: 0.7133 - val_loss: 1.1565 - val_acc: 0.5171\n",
      "Epoch 21/50\n",
      "27486/27486 [==============================] - 2s 57us/sample - loss: 0.6673 - acc: 0.7132 - val_loss: 1.1337 - val_acc: 0.5177\n",
      "Epoch 22/50\n",
      "27486/27486 [==============================] - 2s 60us/sample - loss: 0.6661 - acc: 0.7146 - val_loss: 1.1489 - val_acc: 0.5154\n",
      "Epoch 23/50\n",
      "27486/27486 [==============================] - 2s 63us/sample - loss: 0.6651 - acc: 0.7143 - val_loss: 1.1404 - val_acc: 0.5117\n",
      "Epoch 24/50\n",
      "27486/27486 [==============================] - 1s 49us/sample - loss: 0.6644 - acc: 0.7149 - val_loss: 1.1384 - val_acc: 0.5185\n",
      "Epoch 25/50\n",
      "27486/27486 [==============================] - 2s 61us/sample - loss: 0.6633 - acc: 0.7160 - val_loss: 1.1768 - val_acc: 0.5134\n",
      "Epoch 26/50\n",
      "27486/27486 [==============================] - 2s 57us/sample - loss: 0.6624 - acc: 0.7166 - val_loss: 1.1382 - val_acc: 0.5197\n",
      "Epoch 27/50\n",
      "27486/27486 [==============================] - 2s 66us/sample - loss: 0.6611 - acc: 0.7169 - val_loss: 1.1153 - val_acc: 0.5199\n",
      "Epoch 28/50\n",
      "27486/27486 [==============================] - 2s 76us/sample - loss: 0.6604 - acc: 0.7151 - val_loss: 1.1270 - val_acc: 0.5225\n",
      "Epoch 29/50\n",
      "27486/27486 [==============================] - 2s 63us/sample - loss: 0.6599 - acc: 0.7174 - val_loss: 1.1344 - val_acc: 0.5168\n",
      "Epoch 30/50\n",
      "27486/27486 [==============================] - 2s 84us/sample - loss: 0.6587 - acc: 0.7165 - val_loss: 1.1243 - val_acc: 0.5151\n",
      "Epoch 31/50\n",
      "27486/27486 [==============================] - 2s 78us/sample - loss: 0.6580 - acc: 0.7176 - val_loss: 1.1438 - val_acc: 0.5140\n",
      "Epoch 32/50\n",
      "27486/27486 [==============================] - 2s 67us/sample - loss: 0.6571 - acc: 0.7180 - val_loss: 1.1501 - val_acc: 0.5126\n",
      "Epoch 33/50\n",
      "27486/27486 [==============================] - 2s 60us/sample - loss: 0.6564 - acc: 0.7195 - val_loss: 1.1212 - val_acc: 0.5231\n",
      "Epoch 34/50\n",
      "27486/27486 [==============================] - 2s 66us/sample - loss: 0.6555 - acc: 0.7196 - val_loss: 1.2022 - val_acc: 0.5132\n",
      "Epoch 35/50\n",
      "27486/27486 [==============================] - 2s 77us/sample - loss: 0.6551 - acc: 0.7200 - val_loss: 1.1295 - val_acc: 0.5214\n",
      "Epoch 36/50\n",
      "27486/27486 [==============================] - 2s 83us/sample - loss: 0.6542 - acc: 0.7200 - val_loss: 1.1655 - val_acc: 0.5143\n",
      "Epoch 37/50\n",
      "27486/27486 [==============================] - 2s 70us/sample - loss: 0.6537 - acc: 0.7205 - val_loss: 1.1444 - val_acc: 0.5160\n",
      "Epoch 38/50\n",
      "27486/27486 [==============================] - 2s 71us/sample - loss: 0.6528 - acc: 0.7209 - val_loss: 1.1173 - val_acc: 0.5222\n",
      "Epoch 39/50\n",
      "27486/27486 [==============================] - 2s 76us/sample - loss: 0.6523 - acc: 0.7211 - val_loss: 1.1433 - val_acc: 0.5143\n",
      "Epoch 40/50\n",
      "27486/27486 [==============================] - 2s 91us/sample - loss: 0.6515 - acc: 0.7213 - val_loss: 1.1244 - val_acc: 0.5233\n",
      "Epoch 41/50\n",
      "27486/27486 [==============================] - 2s 71us/sample - loss: 0.6508 - acc: 0.7197 - val_loss: 1.1380 - val_acc: 0.5182\n",
      "Epoch 42/50\n",
      "27486/27486 [==============================] - 2s 61us/sample - loss: 0.6506 - acc: 0.7219 - val_loss: 1.1419 - val_acc: 0.5182\n",
      "Epoch 43/50\n",
      "27486/27486 [==============================] - 2s 75us/sample - loss: 0.6498 - acc: 0.7224 - val_loss: 1.1120 - val_acc: 0.5228\n",
      "Epoch 44/50\n",
      "27486/27486 [==============================] - 2s 66us/sample - loss: 0.6493 - acc: 0.7212 - val_loss: 1.1612 - val_acc: 0.5197\n",
      "Epoch 45/50\n",
      "27486/27486 [==============================] - 2s 73us/sample - loss: 0.6488 - acc: 0.7222 - val_loss: 1.1651 - val_acc: 0.5143\n",
      "Epoch 46/50\n",
      "27486/27486 [==============================] - 2s 75us/sample - loss: 0.6480 - acc: 0.7238 - val_loss: 1.1178 - val_acc: 0.5248\n",
      "Epoch 47/50\n",
      "27486/27486 [==============================] - 2s 64us/sample - loss: 0.6474 - acc: 0.7241 - val_loss: 1.1634 - val_acc: 0.5165\n",
      "Epoch 48/50\n",
      "27486/27486 [==============================] - 2s 67us/sample - loss: 0.6468 - acc: 0.7234 - val_loss: 1.1476 - val_acc: 0.5208\n",
      "Epoch 49/50\n",
      "27486/27486 [==============================] - 2s 80us/sample - loss: 0.6464 - acc: 0.7239 - val_loss: 1.1478 - val_acc: 0.5174\n",
      "Epoch 50/50\n",
      "27486/27486 [==============================] - 2s 76us/sample - loss: 0.6459 - acc: 0.7255 - val_loss: 1.1324 - val_acc: 0.5185\n"
     ]
    }
   ],
   "source": [
    "tf.keras.backend.clear_session()\n",
    "\n",
    "# Embedding layer\n",
    "sentence_indices = tf.keras.layers.Input(shape=(MAX_SEQUENCE_LEN,), dtype=\"int32\")\n",
    "embedding_layer = createEmbeddingLayer(tokenizer.word_index, word2vec)\n",
    "embeddings = embedding_layer(sentence_indices)\n",
    "\n",
    "# Dense layers\n",
    "x = tf.keras.layers.GlobalAveragePooling1D()(embeddings)\n",
    "x = tf.keras.layers.Dense(24, activation='relu')(x)\n",
    "x = tf.keras.layers.Dense(3, activation='softmax')(x)\n",
    "\n",
    "model = tf.keras.models.Model(inputs=sentence_indices, outputs=x)\n",
    "\n",
    "model.summary()\n",
    "model.compile(optimizer=tf.keras.optimizers.RMSprop(lr=0.001), loss=\"categorical_crossentropy\", metrics=[\"acc\"])\n",
    "history = model.fit(\n",
    "    padded_train,train_labels, \n",
    "    epochs=50,\n",
    "    verbose=1,\n",
    "    callbacks=[my_callback],\n",
    "    validation_data=(padded_test, test_labels)\n",
    ")"
   ]
  },
  {
   "cell_type": "code",
   "execution_count": 11,
   "metadata": {},
   "outputs": [
    {
     "data": {
      "image/png": "[encoded data removed]",
      "text/plain": [
       "<Figure size 432x288 with 1 Axes>"
      ]
     },
     "metadata": {
      "needs_background": "light"
     },
     "output_type": "display_data"
    },
    {
     "data": {
      "image/png": "[encoded data removed]",
      "text/plain": [
       "<Figure size 432x288 with 1 Axes>"
      ]
     },
     "metadata": {
      "needs_background": "light"
     },
     "output_type": "display_data"
    }
   ],
   "source": [
    "plot_graphs(history, \"acc\")\n",
    "plot_graphs(history, \"loss\")"
   ]
  },
  {
   "cell_type": "code",
   "execution_count": 12,
   "metadata": {},
   "outputs": [],
   "source": [
    "# Out of sample prediction\n",
    "\n",
    "def evaluate_sentence(model: tf.keras.models.Model, sentence: str) -> int:\n",
    "    \n",
    "    sentence = [[word for word in sentence.split() if word not in STOPWORDS]]\n",
    "    sequence = tokenizer.texts_to_sequences(sentence)\n",
    "    padded = pad_sequences(sequence, padding = \"post\", maxlen = MAX_SEQUENCE_LEN)\n",
    "    \n",
    "    label = np.argmax(model.predict(padded))\n",
    "\n",
    "    return LABEL_TO_SENTIMENT[label]"
   ]
  },
  {
   "cell_type": "code",
   "execution_count": 13,
   "metadata": {},
   "outputs": [
    {
     "ename": "NameError",
     "evalue": "name 'STOPWORDS' is not defined",
     "output_type": "error",
     "traceback": [
      "\u001b[0;31m--------------------------------------\u001b[0m",
      "\u001b[0;31mNameError\u001b[0mTraceback (most recent call last)",
      "\u001b[0;32m<ipython-input-13-548a315dffa9>\u001b[0m in \u001b[0;36m<module>\u001b[0;34m\u001b[0m\n\u001b[1;32m      1\u001b[0m \u001b[0msentence\u001b[0m \u001b[0;34m=\u001b[0m \u001b[0;34m\"I am going to the shop\"\u001b[0m\u001b[0;34m\u001b[0m\u001b[0;34m\u001b[0m\u001b[0m\n\u001b[0;32m----> 2\u001b[0;31m \u001b[0mevaluate_sentence\u001b[0m\u001b[0;34m(\u001b[0m\u001b[0mmodel\u001b[0m\u001b[0;34m,\u001b[0m \u001b[0msentence\u001b[0m\u001b[0;34m)\u001b[0m\u001b[0;34m\u001b[0m\u001b[0;34m\u001b[0m\u001b[0m\n\u001b[0m",
      "\u001b[0;32m<ipython-input-12-ae4039883d13>\u001b[0m in \u001b[0;36mevaluate_sentence\u001b[0;34m(model, sentence)\u001b[0m\n\u001b[1;32m      3\u001b[0m \u001b[0;32mdef\u001b[0m \u001b[0mevaluate_sentence\u001b[0m\u001b[0;34m(\u001b[0m\u001b[0mmodel\u001b[0m\u001b[0;34m:\u001b[0m \u001b[0mtf\u001b[0m\u001b[0;34m.\u001b[0m\u001b[0mkeras\u001b[0m\u001b[0;34m.\u001b[0m\u001b[0mmodels\u001b[0m\u001b[0;34m.\u001b[0m\u001b[0mModel\u001b[0m\u001b[0;34m,\u001b[0m \u001b[0msentence\u001b[0m\u001b[0;34m:\u001b[0m \u001b[0mstr\u001b[0m\u001b[0;34m)\u001b[0m \u001b[0;34m->\u001b[0m \u001b[0mint\u001b[0m\u001b[0;34m:\u001b[0m\u001b[0;34m\u001b[0m\u001b[0;34m\u001b[0m\u001b[0m\n\u001b[1;32m      4\u001b[0m \u001b[0;34m\u001b[0m\u001b[0m\n\u001b[0;32m----> 5\u001b[0;31m     \u001b[0msentence\u001b[0m \u001b[0;34m=\u001b[0m \u001b[0;34m[\u001b[0m\u001b[0;34m[\u001b[0m\u001b[0mword\u001b[0m \u001b[0;32mfor\u001b[0m \u001b[0mword\u001b[0m \u001b[0;32min\u001b[0m \u001b[0msentence\u001b[0m\u001b[0;34m.\u001b[0m\u001b[0msplit\u001b[0m\u001b[0;34m(\u001b[0m\u001b[0;34m)\u001b[0m \u001b[0;32mif\u001b[0m \u001b[0mword\u001b[0m \u001b[0;32mnot\u001b[0m \u001b[0;32min\u001b[0m \u001b[0mSTOPWORDS\u001b[0m\u001b[0;34m]\u001b[0m\u001b[0;34m]\u001b[0m\u001b[0;34m\u001b[0m\u001b[0;34m\u001b[0m\u001b[0m\n\u001b[0m\u001b[1;32m      6\u001b[0m     \u001b[0msequence\u001b[0m \u001b[0;34m=\u001b[0m \u001b[0mtokenizer\u001b[0m\u001b[0;34m.\u001b[0m\u001b[0mtexts_to_sequences\u001b[0m\u001b[0;34m(\u001b[0m\u001b[0msentence\u001b[0m\u001b[0;34m)\u001b[0m\u001b[0;34m\u001b[0m\u001b[0;34m\u001b[0m\u001b[0m\n\u001b[1;32m      7\u001b[0m     \u001b[0mpadded\u001b[0m \u001b[0;34m=\u001b[0m \u001b[0mpad_sequences\u001b[0m\u001b[0;34m(\u001b[0m\u001b[0msequence\u001b[0m\u001b[0;34m,\u001b[0m \u001b[0mpadding\u001b[0m \u001b[0;34m=\u001b[0m \u001b[0;34m\"post\"\u001b[0m\u001b[0;34m,\u001b[0m \u001b[0mmaxlen\u001b[0m \u001b[0;34m=\u001b[0m \u001b[0mMAX_SEQUENCE_LEN\u001b[0m\u001b[0;34m)\u001b[0m\u001b[0;34m\u001b[0m\u001b[0;34m\u001b[0m\u001b[0m\n",
      "\u001b[0;32m<ipython-input-12-ae4039883d13>\u001b[0m in \u001b[0;36m<listcomp>\u001b[0;34m(.0)\u001b[0m\n\u001b[1;32m      3\u001b[0m \u001b[0;32mdef\u001b[0m \u001b[0mevaluate_sentence\u001b[0m\u001b[0;34m(\u001b[0m\u001b[0mmodel\u001b[0m\u001b[0;34m:\u001b[0m \u001b[0mtf\u001b[0m\u001b[0;34m.\u001b[0m\u001b[0mkeras\u001b[0m\u001b[0;34m.\u001b[0m\u001b[0mmodels\u001b[0m\u001b[0;34m.\u001b[0m\u001b[0mModel\u001b[0m\u001b[0;34m,\u001b[0m \u001b[0msentence\u001b[0m\u001b[0;34m:\u001b[0m \u001b[0mstr\u001b[0m\u001b[0;34m)\u001b[0m \u001b[0;34m->\u001b[0m \u001b[0mint\u001b[0m\u001b[0;34m:\u001b[0m\u001b[0;34m\u001b[0m\u001b[0;34m\u001b[0m\u001b[0m\n\u001b[1;32m      4\u001b[0m \u001b[0;34m\u001b[0m\u001b[0m\n\u001b[0;32m----> 5\u001b[0;31m     \u001b[0msentence\u001b[0m \u001b[0;34m=\u001b[0m \u001b[0;34m[\u001b[0m\u001b[0;34m[\u001b[0m\u001b[0mword\u001b[0m \u001b[0;32mfor\u001b[0m \u001b[0mword\u001b[0m \u001b[0;32min\u001b[0m \u001b[0msentence\u001b[0m\u001b[0;34m.\u001b[0m\u001b[0msplit\u001b[0m\u001b[0;34m(\u001b[0m\u001b[0;34m)\u001b[0m \u001b[0;32mif\u001b[0m \u001b[0mword\u001b[0m \u001b[0;32mnot\u001b[0m \u001b[0;32min\u001b[0m \u001b[0mSTOPWORDS\u001b[0m\u001b[0;34m]\u001b[0m\u001b[0;34m]\u001b[0m\u001b[0;34m\u001b[0m\u001b[0;34m\u001b[0m\u001b[0m\n\u001b[0m\u001b[1;32m      6\u001b[0m     \u001b[0msequence\u001b[0m \u001b[0;34m=\u001b[0m \u001b[0mtokenizer\u001b[0m\u001b[0;34m.\u001b[0m\u001b[0mtexts_to_sequences\u001b[0m\u001b[0;34m(\u001b[0m\u001b[0msentence\u001b[0m\u001b[0;34m)\u001b[0m\u001b[0;34m\u001b[0m\u001b[0;34m\u001b[0m\u001b[0m\n\u001b[1;32m      7\u001b[0m     \u001b[0mpadded\u001b[0m \u001b[0;34m=\u001b[0m \u001b[0mpad_sequences\u001b[0m\u001b[0;34m(\u001b[0m\u001b[0msequence\u001b[0m\u001b[0;34m,\u001b[0m \u001b[0mpadding\u001b[0m \u001b[0;34m=\u001b[0m \u001b[0;34m\"post\"\u001b[0m\u001b[0;34m,\u001b[0m \u001b[0mmaxlen\u001b[0m \u001b[0;34m=\u001b[0m \u001b[0mMAX_SEQUENCE_LEN\u001b[0m\u001b[0;34m)\u001b[0m\u001b[0;34m\u001b[0m\u001b[0;34m\u001b[0m\u001b[0m\n",
      "\u001b[0;31mNameError\u001b[0m: name 'STOPWORDS' is not defined"
     ]
    }
   ],
   "source": [
    "sentence = \"I am going to the shop\"\n",
    "evaluate_sentence(model, sentence)"
   ]
  },
  {
   "cell_type": "code",
   "execution_count": null,
   "metadata": {},
   "outputs": [],
   "source": []
  }
 ],
 "metadata": {
  "kernelspec": {
   "display_name": "solid_goggles",
   "language": "python",
   "name": "solid_goggles"
  },
  "language_info": {
   "codemirror_mode": {
    "name": "ipython",
    "version": 3
   },
   "file_extension": ".py",
   "mimetype": "text/x-python",
   "name": "python",
   "nbconvert_exporter": "python",
   "pygments_lexer": "ipython3",
   "version": "3.7.5"
  }
 },
 "nbformat": 4,
 "nbformat_minor": 4
}
